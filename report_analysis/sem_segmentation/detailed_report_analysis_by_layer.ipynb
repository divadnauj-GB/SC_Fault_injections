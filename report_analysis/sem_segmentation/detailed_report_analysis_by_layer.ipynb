{
 "cells": [
  {
   "cell_type": "code",
   "execution_count": 18,
   "metadata": {},
   "outputs": [],
   "source": [
    "import os\n",
    "import sys\n",
    "\n",
    "import pandas as pd\n",
    "import numpy as np\n",
    "import seaborn as sns\n",
    "import matplotlib.pyplot as plt\n",
    "from matplotlib import cm\n",
    "\n",
    "from sklearn.cluster import KMeans, spectral_clustering\n",
    "from sklearn.preprocessing import StandardScaler, MinMaxScaler\n",
    "from sklearn.metrics import silhouette_score, silhouette_samples\n",
    "from copy import deepcopy"
   ]
  },
  {
   "cell_type": "code",
   "execution_count": 19,
   "metadata": {},
   "outputs": [
    {
     "data": {
      "text/plain": [
       "Index(['layer', 'kernel', 'channel', 'row', 'col', 'bitmask',\n",
       "       'global_gold_acc', 'global_gold_f1@1', 'global_fault_acc',\n",
       "       'global_fault_f1@1', 'mask_Crit', 'mask_SDC', 'mask_Masked', 'Layer',\n",
       "       'Ffree_Weight', 'Faulty_weight', 'Abs_error', 'conf_detail',\n",
       "       'bit_faulty_position', 'Crit_perc', 'SDC_perc', 'masked_perc'],\n",
       "      dtype='object')"
      ]
     },
     "execution_count": 19,
     "metadata": {},
     "output_type": "execute_result"
    }
   ],
   "source": [
    "root_path = \"/home/g.esposito/sc2-benchmark\"\n",
    "layer_confs = [file_path for file_path in os.listdir(root_path) if file_path.startswith(\"FSIM_W_hpc_sem_L\")]\n",
    "\n",
    "detailed_report = pd.DataFrame([])\n",
    "general_report = pd.DataFrame([])\n",
    "\n",
    "for layer_conf in layer_confs:\n",
    "    configurations_log = os.path.join(root_path, layer_conf)\n",
    "\n",
    "    # to_iterate = [log for log in os.listdir(configurations_log) if os.path.isdir(configurations_log)]\n",
    "    # print(to_iterate)\n",
    "    for cnf in os.listdir(configurations_log):\n",
    "        cnf_path = os.path.join(configurations_log, cnf) \n",
    "        if os.path.isdir(cnf_path):\n",
    "            # print(os.path.isdir(configurations_log))\n",
    "            # print(cnf)\n",
    "            for file in os.listdir(cnf_path):\n",
    "                report_path = os.path.join(cnf_path, file)\n",
    "                # print(report_path)\n",
    "                if file == \"Faulty_masks_report.csv\":\n",
    "                    report = pd.read_csv(report_path)\n",
    "\n",
    "                    report['conf_detail'] = cnf.split(\"_\")[0] if cnf.split(\"_\")[0] != \"cnf77\" else \"teacher_cnf\"\n",
    "                    report['bit_faulty_position'] = np.log2(report['bitmask'])\n",
    "\n",
    "                    report.drop(columns=['Unnamed: 0'], inplace=True)\n",
    "                    detailed_report = pd.concat([detailed_report, report], axis=0, ignore_index=True)\n",
    "\n",
    "                if file == \"fsim_full_report.csv\":\n",
    "                    report = pd.read_csv(report_path)\n",
    "\n",
    "                    report['conf_detail'] = cnf.split(\"_\")[0] if cnf.split(\"_\")[0] != \"cnf77\" else \"teacher_cnf\"\n",
    "\n",
    "                    report['bit_faulty_position'] = np.log2(report['bitmask'])\n",
    "\n",
    "                    indices = report.query(\"mask_Crit==0 and mask_SDC==0 and mask_Masked == 0\").index\n",
    "                    for idx in indices:\n",
    "                        report.loc[idx, 'Crit_perc'] = 100\n",
    "                        report.loc[idx, 'SDC_perc'] = 0\n",
    "                        report.loc[idx, 'masked_perc'] = 100\n",
    "\n",
    "                    report.drop(columns=['kernel.1','channel.1','row.1','col.1','BitMask', 'Unnamed: 0'], inplace=True)\n",
    "                    # print(report.columns)\n",
    "\n",
    "                    tot_mask_per_fault = report['mask_Crit'] + report['mask_SDC'] + report['mask_Masked']\n",
    "                    # for val in tot_mask_per_fault:\n",
    "                    #     if val == 0:\n",
    "                    #         print('queste sono tutte critiche')\n",
    "                    report['Crit_perc'] = (report['mask_Crit'] / tot_mask_per_fault)*100\n",
    "                    report['SDC_perc'] = (report['mask_SDC'] / tot_mask_per_fault)*100\n",
    "                    report['masked_perc'] = (report['mask_Masked'] / tot_mask_per_fault)*100\n",
    "\n",
    "                    report['global_fault_f1@1'] = report['global_fault_f1@1']*100\n",
    "\n",
    "                    general_report = pd.concat([general_report, report], axis=0, ignore_index=True)\n",
    "                \n",
    "\n",
    "detailed_report.columns\n",
    "general_report.columns"
   ]
  },
  {
   "cell_type": "code",
   "execution_count": null,
   "metadata": {},
   "outputs": [],
   "source": []
  },
  {
   "cell_type": "code",
   "execution_count": 20,
   "metadata": {},
   "outputs": [
    {
     "data": {
      "text/plain": [
       "FaultID                     0\n",
       "imID                        0\n",
       "layer                       0\n",
       "kernel                      0\n",
       "channel                     0\n",
       "row                         0\n",
       "col                         0\n",
       "bitmask                     0\n",
       "label_idx                   0\n",
       "f_class_iou            185687\n",
       "f_label_acc            185687\n",
       "f_label_area           359538\n",
       "f_label_f1             369078\n",
       "g_class_iou            410923\n",
       "g_label_acc            410923\n",
       "g_label_area           596610\n",
       "g_label_f1             611927\n",
       "iou_per_img                 0\n",
       "conf_detail                 0\n",
       "bit_faulty_position         0\n",
       "dtype: int64"
      ]
     },
     "execution_count": 20,
     "metadata": {},
     "output_type": "execute_result"
    }
   ],
   "source": [
    "detailed_report.isna().sum()"
   ]
  },
  {
   "cell_type": "code",
   "execution_count": 35,
   "metadata": {},
   "outputs": [
    {
     "data": {
      "text/plain": [
       "4062614"
      ]
     },
     "execution_count": 35,
     "metadata": {},
     "output_type": "execute_result"
    }
   ],
   "source": [
    "len(detailed_report)"
   ]
  },
  {
   "cell_type": "code",
   "execution_count": 34,
   "metadata": {},
   "outputs": [
    {
     "name": "stdout",
     "output_type": "stream",
     "text": [
      "Percentage of critical boxes because of the low iou score: 0.07882535726997446\n"
     ]
    }
   ],
   "source": [
    "print(f'Percentage of critical boxes because of the low iou score: {len(detailed_report.query(\"f_label_acc < 90 and not g_label_acc.isnull()\"))/len(detailed_report)}')"
   ]
  },
  {
   "cell_type": "code",
   "execution_count": null,
   "metadata": {},
   "outputs": [],
   "source": []
  }
 ],
 "metadata": {
  "kernelspec": {
   "display_name": "sc2-benchmark",
   "language": "python",
   "name": "python3"
  },
  "language_info": {
   "codemirror_mode": {
    "name": "ipython",
    "version": 3
   },
   "file_extension": ".py",
   "mimetype": "text/x-python",
   "name": "python",
   "nbconvert_exporter": "python",
   "pygments_lexer": "ipython3",
   "version": "3.8.12"
  },
  "orig_nbformat": 4
 },
 "nbformat": 4,
 "nbformat_minor": 2
}
